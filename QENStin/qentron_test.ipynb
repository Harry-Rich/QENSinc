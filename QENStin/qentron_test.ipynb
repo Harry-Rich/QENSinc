{
 "cells": [
  {
   "cell_type": "code",
   "execution_count": 1,
   "metadata": {},
   "outputs": [],
   "source": [
    "import sys\n",
    "import os\n",
    "\n",
    "# Path to the folder containing your module\n",
    "module_path = os.path.abspath(\"/Users/bb24144/Documents/QENS_investigation/QENStin/DEPLOY/module\")\n",
    "if module_path not in sys.path:\n",
    "    sys.path.append(module_path)\n",
    "\n",
    "\n",
    "import Sprede as sp\n",
    "import MDAnalysis as mda\n",
    "import scipp as sc\n",
    "import numpy as np"
   ]
  },
  {
   "cell_type": "code",
   "execution_count": 2,
   "metadata": {},
   "outputs": [
    {
     "name": "stderr",
     "output_type": "stream",
     "text": [
      "/opt/anaconda3/lib/python3.12/site-packages/MDAnalysis/coordinates/DCD.py:165: DeprecationWarning: DCDReader currently makes independent timesteps by copying self.ts while other readers update self.ts inplace. This behavior will be changed in 3.0 to be the same as other readers. Read more at https://github.com/MDAnalysis/mdanalysis/issues/3889 to learn if this change in behavior might affect you.\n",
      "  warnings.warn(\"DCDReader currently makes independent timesteps\"\n"
     ]
    }
   ],
   "source": [
    "u = mda.Universe('Tramp_equil_out_338.data','NVT_338.dcd')\n",
    "\n",
    "specie = ['1','8','7']\n",
    "isotopes = ['12C','1H','1H']"
   ]
  },
  {
   "cell_type": "code",
   "execution_count": 3,
   "metadata": {},
   "outputs": [
    {
     "name": "stderr",
     "output_type": "stream",
     "text": [
      "Reading Trajectory: 100%|██████████| 5001/5001 [00:01<00:00, 3587.09it/s]\n",
      "Reading Trajectory: 100%|██████████| 5001/5001 [00:01<00:00, 3941.66it/s]\n"
     ]
    }
   ],
   "source": [
    "time_step = 2.0 * sc.Unit('fs')\n",
    "step_skip = 1000 * sc.Unit('dimensionless')\n",
    "\n",
    "z = sp.MDAnalysisParser(universe = u, specie = specie, isotopes = isotopes, time_step = time_step, step_skip=step_skip)\n"
   ]
  },
  {
   "cell_type": "code",
   "execution_count": null,
   "metadata": {},
   "outputs": [],
   "source": []
  },
  {
   "cell_type": "code",
   "execution_count": 4,
   "metadata": {},
   "outputs": [
    {
     "name": "stdout",
     "output_type": "stream",
     "text": [
      "INFO: Pruning at 0.0725 < 2\n",
      "INFO: Pruned from 2947 q-points to 11\n"
     ]
    }
   ],
   "source": [
    "q_points = z.calculate_q_points(q_max = 2, max_points = 10)"
   ]
  },
  {
   "cell_type": "code",
   "execution_count": 5,
   "metadata": {},
   "outputs": [
    {
     "name": "stdout",
     "output_type": "stream",
     "text": [
      "<scipp.Variable> (obs: 5000, atom: 3000, dimension: 3)    float32             [Å]  [-1.79247, 0.952145, ..., 18.5973, -1.99942]\n"
     ]
    },
    {
     "name": "stderr",
     "output_type": "stream",
     "text": [
      "  0%|          | 0/5000 [00:00<?, ?it/s]"
     ]
    },
    {
     "name": "stdout",
     "output_type": "stream",
     "text": [
      "[[[-1.7924681   0.9521445  -0.901252  ]\n",
      "  [-2.1670408   1.4240512  -1.3528512 ]\n",
      "  [-2.442134    1.4537925   0.24093704]\n",
      "  ...\n",
      "  [ 1.6446238   0.37114707 -0.9921276 ]\n",
      "  [ 3.5517359   0.35616294 -1.8680451 ]\n",
      "  [ 2.928609    1.1035994   2.8549469 ]]\n",
      "\n",
      " [[ 1.2817323   0.34806597  0.9151277 ]\n",
      "  [ 1.2970064   0.469339    0.669652  ]\n",
      "  [-0.54371476 -0.44380796  0.8951158 ]\n",
      "  ...\n",
      "  [-2.2714407   1.7659203  -0.45899874]\n",
      "  [-3.849871    2.2794929  -1.0240412 ]\n",
      "  [-1.6583084   0.44315875 -3.6381216 ]]\n",
      "\n",
      " [[-0.7445281  -1.0394799   0.6495461 ]\n",
      "  [-0.8832763  -1.4059998   0.8210091 ]\n",
      "  [ 0.43087173 -0.970821    0.51252985]\n",
      "  ...\n",
      "  [ 0.50539947  1.7991986   0.8956551 ]\n",
      "  [ 0.88018584  0.6551175   0.91646814]\n",
      "  [ 1.0349826   2.0739102   2.4149976 ]]\n",
      "\n",
      " ...\n",
      "\n",
      " [[ 1.3409338   1.0663872  -1.5010262 ]\n",
      "  [ 1.6442211   1.3771095  -2.6268387 ]\n",
      "  [ 0.18490505 -0.46157837 -2.1705627 ]\n",
      "  ...\n",
      "  [-1.8830338  -1.2226057  -0.12894869]\n",
      "  [-1.8267975  -1.0268745  -0.09515238]\n",
      "  [-1.389431   -0.87947464  0.0609355 ]]\n",
      "\n",
      " [[ 0.10569715  0.03667068 -0.8638649 ]\n",
      "  [-0.57077813 -0.5014343  -1.7386131 ]\n",
      "  [-1.7009134   0.5571861   1.2843895 ]\n",
      "  ...\n",
      "  [-0.31258392  0.7881193   0.128376  ]\n",
      "  [ 0.5360489   0.87615013 -0.3677292 ]\n",
      "  [ 0.55698395  0.43413544  1.8836076 ]]\n",
      "\n",
      " [[ 1.0143633  -1.0737686  -0.17557144]\n",
      "  [ 1.6688662  -1.6843758   0.27329636]\n",
      "  [ 1.8354163  -1.122448   -1.9544106 ]\n",
      "  ...\n",
      "  [ 0.14178848  0.04305649  0.4504814 ]\n",
      "  [ 0.10149765 -0.20493126  0.31037712]\n",
      "  [-0.07112503  1.4000816   0.7408792 ]]]\n",
      "[[[ 0.00000000e+00 -9.85349279e-02 -3.15861081e-01 ... -2.36993841e+00\n",
      "   -1.28927521e+00 -1.29280558e+00]\n",
      "  [ 0.00000000e+00 -8.71217176e-02 -4.12736612e-01 ... -2.88698188e+00\n",
      "   -1.26725620e+00 -1.45674382e+00]\n",
      "  [ 0.00000000e+00 -1.15891256e-01 -2.58108641e-01 ... -1.53194474e+00\n",
      "   -1.01957894e+00  9.01382970e-03]\n",
      "  ...\n",
      "  [ 0.00000000e+00  2.36365896e-01  7.65106020e-02 ...  1.42244769e+00\n",
      "    2.29453929e+00  1.01799057e+00]\n",
      "  [ 0.00000000e+00  4.58233641e-01  1.97426749e-01 ...  2.94388643e+00\n",
      "    4.42520164e+00  1.86152697e+00]\n",
      "  [ 0.00000000e+00  4.72809965e-01  6.78170018e-01 ...  7.82558736e+00\n",
      "    6.33461462e+00  7.31300096e+00]]\n",
      "\n",
      " [[ 0.00000000e+00  1.91107406e-01  2.57600110e-01 ...  2.94549758e+00\n",
      "    2.46491410e+00  2.65787078e+00]\n",
      "  [ 0.00000000e+00  2.07118688e-01  2.30607050e-01 ...  2.81990425e+00\n",
      "    2.56890627e+00  2.58378550e+00]\n",
      "  [ 0.00000000e+00 -1.15795253e-01  4.12046938e-02 ... -1.72989311e-01\n",
      "   -1.01090864e+00 -1.89884775e-01]\n",
      "  ...\n",
      "  [ 0.00000000e+00 -5.92764791e-02 -3.20166741e-01 ... -1.75764058e+00\n",
      "   -6.06436689e-01 -1.30329247e-01]\n",
      "  [ 0.00000000e+00 -1.84139890e-01 -5.71506733e-01 ... -3.90810340e+00\n",
      "   -2.11848133e+00 -1.48465724e+00]\n",
      "  [ 0.00000000e+00 -1.42486403e-01 -6.21050471e-01 ... -5.56264275e+00\n",
      "   -2.79518644e+00 -4.77143520e+00]]\n",
      "\n",
      " [[ 0.00000000e+00 -2.09189773e-01 -1.11374328e-02 ... -1.24994239e+00\n",
      "   -2.19448112e+00 -1.47558669e+00]\n",
      "  [ 0.00000000e+00 -2.68436660e-01 -7.30134528e-03 ... -1.59177644e+00\n",
      "   -2.82885799e+00 -1.94052264e+00]\n",
      "  [ 0.00000000e+00 -6.33135464e-02  1.10621682e-01 ...  1.85947002e-01\n",
      "   -6.29990686e-01 -4.20970239e-01]\n",
      "  ...\n",
      "  [ 0.00000000e+00  2.70233296e-01  1.64285301e-01 ...  3.28486033e+00\n",
      "    3.49860628e+00  3.95095747e+00]\n",
      "  [ 0.00000000e+00  1.80027089e-01  2.10672624e-01 ...  2.71701566e+00\n",
      "    2.37950649e+00  2.71466023e+00]\n",
      "  [ 0.00000000e+00  3.64543540e-01  4.04538868e-01 ...  5.82903624e+00\n",
      "    5.10269782e+00  6.43768820e+00]]\n",
      "\n",
      " ...\n",
      "\n",
      " [[ 0.00000000e+00  2.82278408e-01 -1.87721601e-02 ...  1.14586397e+00\n",
      "    2.70208185e+00  1.17432811e+00]\n",
      "  [ 0.00000000e+00  3.54276143e-01 -1.15220089e-01 ...  6.40436767e-01\n",
      "    3.13445906e+00  7.07951164e-01]\n",
      "  [ 0.00000000e+00 -3.24422477e-02 -2.32834881e-01 ... -2.48514184e+00\n",
      "   -1.17453824e+00 -2.76668242e+00]\n",
      "  ...\n",
      "  [ 0.00000000e+00 -3.64162058e-01 -2.35921676e-01 ... -3.71178333e+00\n",
      "   -4.19450425e+00 -3.62282198e+00]\n",
      "  [ 0.00000000e+00 -3.34616781e-01 -2.25364608e-01 ... -3.41997252e+00\n",
      "   -3.83466640e+00 -3.25898925e+00]\n",
      "  [ 0.00000000e+00 -2.66048058e-01 -1.55777148e-01 ... -2.55284475e+00\n",
      "   -3.00821878e+00 -2.47658059e+00]]\n",
      "\n",
      " [[ 0.00000000e+00  1.66938134e-02 -8.89014742e-02 ... -7.40925984e-01\n",
      "   -1.15954144e-01 -7.60907825e-01]\n",
      "  [ 0.00000000e+00 -1.25725829e-01 -2.70795334e-01 ... -3.04139374e+00\n",
      "   -2.05338202e+00 -3.07579767e+00]\n",
      "  [ 0.00000000e+00 -1.34111539e-01 -4.88408957e-02 ... -3.15782893e-01\n",
      "   -9.58076171e-01  5.43894681e-01]\n",
      "  ...\n",
      "  [ 0.00000000e+00  5.57604802e-02 -2.15999104e-02 ...  4.71603038e-01\n",
      "    7.50938291e-01  9.51216414e-01]\n",
      "  [ 0.00000000e+00  1.65592081e-01  1.97368851e-02 ...  1.12523147e+00\n",
      "    1.79489087e+00  1.34760646e+00]\n",
      "  [ 0.00000000e+00  1.16216992e-01  2.86179662e-01 ...  3.11348689e+00\n",
      "    1.99189889e+00  3.12117785e+00]]\n",
      "\n",
      " [[ 0.00000000e+00 -6.96576869e-03  9.83553210e-02 ...  1.15816542e-01\n",
      "   -2.64293393e-01 -7.44644263e-01]\n",
      "  [ 0.00000000e+00 -1.81863024e-03  2.27734709e-01 ...  8.60932712e-01\n",
      "   -1.21373188e-01 -5.16160877e-01]\n",
      "  [ 0.00000000e+00  8.36014693e-02 -1.39530639e-02 ... -7.48072800e-01\n",
      "    1.00487121e-01 -1.92019173e+00]\n",
      "  ...\n",
      "  [ 0.00000000e+00  2.16746103e-02  6.94485718e-02 ...  6.98678755e-01\n",
      "    4.01937523e-01  6.68996044e-01]\n",
      "  [ 0.00000000e+00 -1.21284510e-02  4.82957428e-02 ...  2.66225415e-01\n",
      "   -4.82599584e-02  1.34401505e-01]\n",
      "  [ 0.00000000e+00  1.55831216e-01  7.85342447e-02 ...  2.00349794e+00\n",
      "    2.13893733e+00  2.68520281e+00]]]\n"
     ]
    },
    {
     "name": "stderr",
     "output_type": "stream",
     "text": [
      "/Users/bb24144/Documents/QENS_investigation/QENStin/DEPLOY/module/Sprede.py:106: ComplexWarning: Casting complex values to real discards the imaginary part\n",
      "  incoh_f[:, i-1] = np.mean(mean_1 * s_len_sq[:, np.newaxis], axis=0)\n",
      "  0%|          | 1/5000 [00:05<7:30:20,  5.41s/it]"
     ]
    },
    {
     "name": "stdout",
     "output_type": "stream",
     "text": [
      "[[[-5.1073581e-01  1.3002105e+00  1.3875702e-02]\n",
      "  [-8.7003452e-01  1.8933902e+00 -6.8319917e-01]\n",
      "  [-2.9858487e+00  1.0099845e+00  1.1360528e+00]\n",
      "  ...\n",
      "  [-6.2681705e-01  2.1370673e+00 -1.4511263e+00]\n",
      "  [-2.9813510e-01  2.6356559e+00 -2.8920863e+00]\n",
      "  [ 1.2703005e+00  1.5467582e+00 -7.8317475e-01]]\n",
      "\n",
      " [[ 5.3720415e-01 -6.9141388e-01  1.5646738e+00]\n",
      "  [ 4.1373003e-01 -9.3666077e-01  1.4906611e+00]\n",
      "  [-1.1284304e-01 -1.4146290e+00  1.4076457e+00]\n",
      "  ...\n",
      "  [-1.7660414e+00  3.5651188e+00  4.3665636e-01]\n",
      "  [-2.9696851e+00  2.9346104e+00 -1.0757303e-01]\n",
      "  [-6.2332582e-01  2.5170689e+00 -1.2231240e+00]]\n",
      "\n",
      " [[-1.1945481e+00 -2.3703189e+00  2.2253165e+00]\n",
      "  [-1.2053514e+00 -3.1410956e+00  2.6827598e+00]\n",
      "  [ 7.3716879e-01 -2.6169753e+00  1.4207816e+00]\n",
      "  ...\n",
      "  [ 5.0790173e-01 -2.9944003e-01  7.9396200e-01]\n",
      "  [ 1.0564666e+00 -1.7924286e+00  1.1902957e+00]\n",
      "  [ 1.1445862e+00  1.0849059e+00  3.2313113e+00]]\n",
      "\n",
      " ...\n",
      "\n",
      " [[ 1.2829595e+00  2.0854225e+00 -1.9599953e+00]\n",
      "  [ 1.8827517e+00  2.9047432e+00 -3.1564903e+00]\n",
      "  [-4.3486357e-01  6.1123276e-01 -3.7967148e+00]\n",
      "  ...\n",
      "  [-1.6473656e+00 -3.3018160e+00  1.3043733e+00]\n",
      "  [-1.8281670e+00 -3.6418762e+00  1.2765374e+00]\n",
      "  [-1.6586151e+00 -3.7851582e+00  1.0878720e+00]]\n",
      "\n",
      " [[ 1.4466310e+00  1.1030579e+00 -2.3648911e+00]\n",
      "  [ 1.0734429e+00  8.7567520e-01 -4.3654518e+00]\n",
      "  [-1.5160084e+00  9.5607758e-02 -8.8617325e-01]\n",
      "  ...\n",
      "  [-2.1956177e+00 -4.3448639e-01 -5.7268143e-04]\n",
      "  [-1.2907486e+00 -1.5072441e-01 -4.6288157e-01]\n",
      "  [-8.3244705e-01 -4.4533920e-01  1.9445431e+00]]\n",
      "\n",
      " [[ 1.1200604e+00 -1.0370979e+00 -1.0394363e+00]\n",
      "  [ 1.0980880e+00 -2.1858101e+00 -1.4653168e+00]\n",
      "  [ 1.3450289e-01 -5.6526184e-01 -6.7002106e-01]\n",
      "  ...\n",
      "  [-1.7079544e-01  8.3117580e-01  5.7885742e-01]\n",
      "  [ 6.3754654e-01  6.7121887e-01 -5.7352066e-02]\n",
      "  [ 4.8585892e-01  1.8342171e+00  2.6244869e+00]]]\n",
      "[[[ 0.00000000e+00  9.25724713e-02 -5.82609804e-02 ...  5.75559078e-01\n",
      "    1.17563880e+00  1.36506512e+00]\n",
      "  [ 0.00000000e+00  1.19996964e-01 -1.82129569e-01 ... -6.70777087e-02\n",
      "    1.30164999e+00  1.12704163e+00]\n",
      "  [ 0.00000000e+00 -2.31686509e-01 -2.16903946e-01 ... -1.70493403e+00\n",
      "   -2.03048758e+00 -1.80870929e-01]\n",
      "  ...\n",
      "  [ 0.00000000e+00  1.77089406e-01 -2.43656146e-01 ... -3.35192987e-01\n",
      "    1.68810249e+00  8.87661225e-01]\n",
      "  [ 0.00000000e+00  2.74093754e-01 -3.74079991e-01 ... -9.64216963e-01\n",
      "    2.30672036e+00  3.76869797e-01]\n",
      "  [ 0.00000000e+00  3.30323562e-01  5.71195465e-02 ...  2.26294461e+00\n",
      "    3.53942818e+00  2.54156576e+00]]\n",
      "\n",
      " [[ 0.00000000e+00 -1.80823739e-02  2.46462670e-01 ...  1.69555511e+00\n",
      "    2.70432905e-01  1.18228403e+00]\n",
      "  [ 0.00000000e+00 -6.13179790e-02  2.23305705e-01 ...  1.22812779e+00\n",
      "   -2.59951781e-01  6.43262868e-01]\n",
      "  [ 0.00000000e+00 -1.79108799e-01  1.51826382e-01 ...  1.29577544e-02\n",
      "   -1.64089931e+00 -6.10854951e-01]\n",
      "  ...\n",
      "  [ 0.00000000e+00  2.10956788e-01 -1.55881454e-01 ...  1.52721949e+00\n",
      "    2.89216927e+00  3.82062794e+00]\n",
      "  [ 0.00000000e+00 -4.11280159e-03 -3.60834109e-01 ... -1.19108774e+00\n",
      "    2.61025159e-01  1.23000299e+00]\n",
      "  [ 0.00000000e+00  2.22057123e-01 -2.16511603e-01 ...  2.66393378e-01\n",
      "    2.30751122e+00  1.66625283e+00]]\n",
      "\n",
      " [[ 0.00000000e+00 -4.18010310e-01  1.20866168e-01 ... -1.41586274e+00\n",
      "   -4.09324240e+00 -2.10740905e+00]\n",
      "  [ 0.00000000e+00 -5.09657062e-01  1.73238425e-01 ... -1.67008585e+00\n",
      "   -5.03081959e+00 -2.71935179e+00]\n",
      "  [ 0.00000000e+00 -2.20422950e-01  2.53037634e-01 ... -4.67992840e-03\n",
      "   -2.23171919e+00 -1.49144593e+00]\n",
      "  ...\n",
      "  [ 0.00000000e+00  2.44438685e-02  1.52654351e-01 ...  1.21210589e+00\n",
      "    5.13066666e-01  8.92991451e-01]\n",
      "  [ 0.00000000e+00 -8.62976700e-02  2.63451565e-01 ...  9.37405761e-01\n",
      "   -7.40735320e-01 -2.74941376e-01]\n",
      "  [ 0.00000000e+00  2.61426489e-01  5.13110383e-01 ...  5.90413184e+00\n",
      "    4.13960001e+00  6.01035203e+00]]\n",
      "\n",
      " ...\n",
      "\n",
      " [[ 0.00000000e+00  3.94970804e-01 -7.93880800e-02 ...  1.54264770e+00\n",
      "    3.89973474e+00  2.06946724e+00]\n",
      "  [ 0.00000000e+00  5.61373598e-01 -1.49356448e-01 ...  1.82217097e+00\n",
      "    5.40534064e+00  2.52228728e+00]\n",
      "  [ 0.00000000e+00  2.06807546e-02 -4.96187759e-01 ... -3.99429557e+00\n",
      "   -1.03642874e+00 -3.55463296e+00]\n",
      "  ...\n",
      "  [ 0.00000000e+00 -5.80332704e-01 -4.02187008e-02 ... -3.84562604e+00\n",
      "   -6.31197928e+00 -4.81478565e+00]\n",
      "  [ 0.00000000e+00 -6.41408062e-01 -6.46831523e-02 ... -4.42720617e+00\n",
      "   -7.03347507e+00 -5.49226394e+00]\n",
      "  [ 0.00000000e+00 -6.38327696e-01 -6.69243739e-02 ... -4.54202243e+00\n",
      "   -7.08275980e+00 -5.73392828e+00]]\n",
      "\n",
      " [[ 0.00000000e+00  2.98972221e-01 -1.07673634e-01 ...  4.04937989e-01\n",
      "    2.58612771e+00  4.13420290e-01]\n",
      "  [ 0.00000000e+00  2.28550314e-01 -3.86015423e-01 ... -2.40095697e+00\n",
      "    1.08107705e+00 -2.36784651e+00]\n",
      "  [ 0.00000000e+00 -1.66553787e-01 -2.81675776e-01 ... -2.80092473e+00\n",
      "   -2.13261441e+00 -2.22278774e+00]\n",
      "  ...\n",
      "  [ 0.00000000e+00 -3.08401578e-01 -2.57521587e-01 ... -3.24018030e+00\n",
      "   -3.44356596e+00 -2.67160556e+00]\n",
      "  [ 0.00000000e+00 -1.69024700e-01 -2.05627723e-01 ... -2.29474105e+00\n",
      "   -2.03977553e+00 -1.91138279e+00]\n",
      "  [ 0.00000000e+00 -1.49831067e-01  1.30402515e-01 ...  5.60642143e-01\n",
      "   -1.01631989e+00  6.44597262e-01]]\n",
      "\n",
      " [[ 0.00000000e+00  9.72804471e-03  9.45384675e-03 ... -6.25109442e-01\n",
      "   -3.80247537e-01 -1.50555209e+00]\n",
      "  [ 0.00000000e+00 -1.27544459e-01 -4.30606250e-02 ... -2.18046103e+00\n",
      "   -2.17475521e+00 -3.59195855e+00]\n",
      "  [ 0.00000000e+00 -5.05100702e-02 -6.27939597e-02 ... -1.06385569e+00\n",
      "   -8.57589051e-01 -1.37629705e+00]\n",
      "  ...\n",
      "  [ 0.00000000e+00  7.74350905e-02  4.78486615e-02 ...  1.17028179e+00\n",
      "    1.15287581e+00  1.62021246e+00]\n",
      "  [ 0.00000000e+00  1.53463630e-01  6.80326279e-02 ...  1.39145689e+00\n",
      "    1.74663091e+00  1.48200797e+00]\n",
      "  [ 0.00000000e+00  2.72048208e-01  3.64713921e-01 ...  5.11698495e+00\n",
      "    4.13083626e+00  5.80638079e+00]]]\n"
     ]
    },
    {
     "name": "stderr",
     "output_type": "stream",
     "text": [
      "  0%|          | 2/5000 [00:11<7:53:54,  5.69s/it]"
     ]
    },
    {
     "name": "stdout",
     "output_type": "stream",
     "text": [
      "[[[-1.2552639   0.26073065  0.6634218 ]\n",
      "  [-1.7533108   0.48739043  0.13780995]\n",
      "  [-2.554977    0.03916349  1.6485827 ]\n",
      "  ...\n",
      "  [-0.1214176   3.936266   -0.55547124]\n",
      "  [ 0.58205074  3.2907734  -1.9756181 ]\n",
      "  [ 2.305283    3.6206684   1.6318228 ]]\n",
      "\n",
      " [[ 0.08718419 -2.022253    3.1404443 ]\n",
      "  [ 0.09165502 -2.6717567   3.3524117 ]\n",
      "  [ 0.19345403 -3.0607834   2.3158975 ]\n",
      "  ...\n",
      "  [-1.7635391   1.4664803   0.33496326]\n",
      "  [-2.7934043   0.48706433  0.16625452]\n",
      "  [-0.5137222   1.5280646  -0.40681028]]\n",
      "\n",
      " [[-0.0719837  -2.775158    0.78419214]\n",
      "  [ 0.61957514 -4.4496384   0.78221613]\n",
      "  [ 1.4141308  -1.7954426  -2.7309828 ]\n",
      "  ...\n",
      "  [-0.22923315  0.08182907 -0.38872242]\n",
      "  [ 0.5399281  -0.8307457  -0.48568058]\n",
      "  [ 0.6662748   2.300068    0.920518  ]]\n",
      "\n",
      " ...\n",
      "\n",
      " [[ 2.3008533   1.4081955   0.75416565]\n",
      "  [ 4.0666265   2.0208588   0.9129944 ]\n",
      "  [ 2.369091    2.0265732  -3.4133606 ]\n",
      "  ...\n",
      "  [-3.966854   -6.4520025  -1.4623537 ]\n",
      "  [-4.8880386  -6.8090153  -2.6342554 ]\n",
      "  [-3.5271301  -7.7426662  -1.5563478 ]]\n",
      "\n",
      " [[ 1.3886566   2.1220932  -2.8238602 ]\n",
      "  [ 1.3119736   2.4033089  -4.8951035 ]\n",
      "  [-2.135777    1.1684189  -2.5123253 ]\n",
      "  ...\n",
      "  [-1.9599495  -2.5136967   1.4327493 ]\n",
      "  [-1.2921181  -2.765726    0.90880823]\n",
      "  [-1.1016312  -3.3510227   2.9714797 ]]\n",
      "\n",
      " [[ 2.4609942   0.02928925 -2.5404625 ]\n",
      "  [ 2.742309   -0.80870056 -4.0921555 ]\n",
      "  [ 0.31940794 -1.0268402  -2.8405838 ]\n",
      "  ...\n",
      "  [-2.0538292  -0.3914299   0.44990873]\n",
      "  [-1.189251   -0.35565567 -0.15250444]\n",
      "  [-0.9035721   0.95474243  2.6854224 ]]]\n"
     ]
    },
    {
     "name": "stderr",
     "output_type": "stream",
     "text": [
      "  0%|          | 2/5000 [00:13<9:04:53,  6.54s/it]\n"
     ]
    },
    {
     "ename": "KeyboardInterrupt",
     "evalue": "",
     "output_type": "error",
     "traceback": [
      "\u001b[0;31m---------------------------------------------------------------------------\u001b[0m",
      "\u001b[0;31mKeyboardInterrupt\u001b[0m                         Traceback (most recent call last)",
      "Cell \u001b[0;32mIn[5], line 1\u001b[0m\n\u001b[0;32m----> 1\u001b[0m incoh_f \u001b[38;5;241m=\u001b[39m z\u001b[38;5;241m.\u001b[39mcalculate_Finc_qt(q_points)\n",
      "File \u001b[0;32m~/Documents/QENS_investigation/QENStin/DEPLOY/module/Sprede.py:99\u001b[0m, in \u001b[0;36mSprede.calculate_Finc_qt\u001b[0;34m(self, q_points, normalise)\u001b[0m\n\u001b[1;32m     97\u001b[0m \u001b[38;5;28mprint\u001b[39m(disp\u001b[38;5;241m.\u001b[39mvalues)\n\u001b[1;32m     98\u001b[0m \u001b[38;5;66;03m# Probably try and make these variable names have some physical significance\u001b[39;00m\n\u001b[0;32m---> 99\u001b[0m traj_q_combo \u001b[38;5;241m=\u001b[39m np\u001b[38;5;241m.\u001b[39meinsum(\u001b[38;5;124m'\u001b[39m\u001b[38;5;124mijk,lk->ijl\u001b[39m\u001b[38;5;124m'\u001b[39m,\n\u001b[1;32m    100\u001b[0m                          disp\u001b[38;5;241m.\u001b[39mvalues,\n\u001b[1;32m    101\u001b[0m                          q_points)\n\u001b[1;32m    103\u001b[0m \u001b[38;5;28mprint\u001b[39m(traj_q_combo)\n\u001b[1;32m    104\u001b[0m expensive_exponent \u001b[38;5;241m=\u001b[39m np\u001b[38;5;241m.\u001b[39mexp(\u001b[38;5;241m1\u001b[39mj \u001b[38;5;241m*\u001b[39m traj_q_combo)\n",
      "File \u001b[0;32m/opt/anaconda3/lib/python3.12/site-packages/numpy/core/einsumfunc.py:1371\u001b[0m, in \u001b[0;36meinsum\u001b[0;34m(out, optimize, *operands, **kwargs)\u001b[0m\n\u001b[1;32m   1369\u001b[0m     \u001b[38;5;28;01mif\u001b[39;00m specified_out:\n\u001b[1;32m   1370\u001b[0m         kwargs[\u001b[38;5;124m'\u001b[39m\u001b[38;5;124mout\u001b[39m\u001b[38;5;124m'\u001b[39m] \u001b[38;5;241m=\u001b[39m out\n\u001b[0;32m-> 1371\u001b[0m     \u001b[38;5;28;01mreturn\u001b[39;00m c_einsum(\u001b[38;5;241m*\u001b[39moperands, \u001b[38;5;241m*\u001b[39m\u001b[38;5;241m*\u001b[39mkwargs)\n\u001b[1;32m   1373\u001b[0m \u001b[38;5;66;03m# Check the kwargs to avoid a more cryptic error later, without having to\u001b[39;00m\n\u001b[1;32m   1374\u001b[0m \u001b[38;5;66;03m# repeat default values here\u001b[39;00m\n\u001b[1;32m   1375\u001b[0m valid_einsum_kwargs \u001b[38;5;241m=\u001b[39m [\u001b[38;5;124m'\u001b[39m\u001b[38;5;124mdtype\u001b[39m\u001b[38;5;124m'\u001b[39m, \u001b[38;5;124m'\u001b[39m\u001b[38;5;124morder\u001b[39m\u001b[38;5;124m'\u001b[39m, \u001b[38;5;124m'\u001b[39m\u001b[38;5;124mcasting\u001b[39m\u001b[38;5;124m'\u001b[39m]\n",
      "\u001b[0;31mKeyboardInterrupt\u001b[0m: "
     ]
    }
   ],
   "source": [
    "incoh_f = z.calculate_Finc_qt(q_points)"
   ]
  },
  {
   "cell_type": "code",
   "execution_count": 8,
   "metadata": {},
   "outputs": [
    {
     "data": {
      "text/plain": [
       "(56, 101)"
      ]
     },
     "execution_count": 8,
     "metadata": {},
     "output_type": "execute_result"
    }
   ],
   "source": [
    "incoh_f.shape"
   ]
  },
  {
   "cell_type": "code",
   "execution_count": 6,
   "metadata": {},
   "outputs": [
    {
     "data": {
      "image/png": "[encoded data removed]",
      "text/plain": [
       "<Figure size 640x480 with 1 Axes>"
      ]
     },
     "metadata": {},
     "output_type": "display_data"
    }
   ],
   "source": [
    "import matplotlib.pyplot as plt\n",
    "fig, ax = plt.subplots()\n",
    "\n",
    "for i in range(0,len(q_points)):\n",
    "    ax.plot(z.delta_t/1000000,incoh_f[i].T, 'b', alpha = 0.2)\n"
   ]
  }
 ],
 "metadata": {
  "kernelspec": {
   "display_name": "base",
   "language": "python",
   "name": "python3"
  },
  "language_info": {
   "codemirror_mode": {
    "name": "ipython",
    "version": 3
   },
   "file_extension": ".py",
   "mimetype": "text/x-python",
   "name": "python",
   "nbconvert_exporter": "python",
   "pygments_lexer": "ipython3",
   "version": "3.12.2"
  }
 },
 "nbformat": 4,
 "nbformat_minor": 2
}
