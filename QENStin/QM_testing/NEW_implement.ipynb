{
 "cells": [
  {
   "cell_type": "code",
   "execution_count": 1,
   "metadata": {},
   "outputs": [],
   "source": [
    "import sys\n",
    "import os\n",
    "\n",
    "# Path to the folder containing your module\n",
    "module_path = os.path.abspath(\"/Users/bb24144/Documents/QENS_investigation/QENStin/module\")\n",
    "if module_path not in sys.path:\n",
    "    sys.path.append(module_path)\n",
    "\n",
    "\n",
    "\n",
    "import scipp as sc\n",
    "import Sprede as sp\n",
    "import MDAnalysis as mda\n",
    "from pymatgen.io.vasp import Xdatcar\n",
    "from pymatgen.core import Structure\n",
    "import kinisi.parser as parser\n",
    "import numba as numba\n"
   ]
  },
  {
   "cell_type": "markdown",
   "metadata": {},
   "source": [
    "# Checker"
   ]
  },
  {
   "cell_type": "code",
   "execution_count": 2,
   "metadata": {},
   "outputs": [
    {
     "data": {
      "text/plain": [
       "-0.10847798136910836"
      ]
     },
     "execution_count": 2,
     "metadata": {},
     "output_type": "execute_result"
    }
   ],
   "source": [
    "import numpy as np\n",
    "np.random.seed(42)\n",
    "\n",
    "atoms = 1000\n",
    "\n",
    "# 128 particles, 3 ovservations of 3 dimensions\n",
    "disp_frames =  np.random.randint(low = 2, high =10, size = (atoms,10000,3))\n",
    "\n",
    "# 3 3d q vectors\n",
    "q_points = np.random.randint(low = 0, high =5, size = (5,3))\n",
    "\n",
    "\n",
    "d_q = (disp_frames @ q_points.T)\n",
    "\n",
    "\n",
    "exp_d_q = np.exp(1j* d_q)\n",
    "mean_exp = exp_d_q.mean(axis = 2)\n",
    "b_2 = np.random.randint(low = 10, high =150, size = (atoms,1))\n",
    "incoh_sum = (mean_exp * b_2).real\n",
    "incoh_final = np.mean(incoh_sum)\n",
    "\n",
    "incoh_final"
   ]
  },
  {
   "cell_type": "markdown",
   "metadata": {},
   "source": [
    "# Numba"
   ]
  },
  {
   "cell_type": "code",
   "execution_count": 14,
   "metadata": {},
   "outputs": [],
   "source": [
    "import numpy as np\n",
    "from numba import njit\n"
   ]
  },
  {
   "cell_type": "code",
   "execution_count": 16,
   "metadata": {},
   "outputs": [],
   "source": [
    "@numba.njit\n",
    "def create_disp_3d(disp, i, unit='A'):\n",
    "    \"\"\"\n",
    "    From a displacement array calculate the 3d displacements for a given time interval\n",
    "    \"\"\"\n",
    "    n, m, t = disp.shape\n",
    "    # Initialize the output array\n",
    "    result = np.zeros((m, n-i, t), dtype=disp.dtype)\n",
    "    # Compute the displacements\n",
    "    result[:, 0, :] = disp[i, :, :]  # Base case\n",
    "    for j in numba.prange(1, n - i):\n",
    "        result[:, j, :] = disp[i+j,:, :] - disp[j-1,:, :]\n",
    "    \n",
    "    if unit == 'A':\n",
    "        return result\n",
    "    elif unit =='nm':\n",
    "        return result / 10\n",
    "    else:\n",
    "        raise ValueError('unit must be either A or Nm')"
   ]
  },
  {
   "cell_type": "code",
   "execution_count": 17,
   "metadata": {},
   "outputs": [],
   "source": [
    "@numba.jit(fastmath=True, nopython=True, parallel=True)\n",
    "def mat_mul(a,b):\n",
    "    \"\"\"\n",
    "    3d x 2d matrix multiplication using numba\n",
    "\n",
    "    i.e. \n",
    "    a is a 3d array of shape (n,m,t)\n",
    "    b is a 2d array of shape (t,p)\n",
    "\n",
    "    The result is a 3d array of shape (n,m,p) where the last dimension is the dot product of the last dimension of a and b\n",
    "    \"\"\"\n",
    "    result_shape = a.shape[:-1] + (b.shape[0],) \n",
    "    result = np.zeros(result_shape,dtype = np.float64)\n",
    "\n",
    "    for i in numba.prange(a.shape[0]):  \n",
    "        for j in numba.prange(a.shape[1]):  \n",
    "            for k in numba.prange(b.shape[0]): \n",
    "                for l in numba.prange(a.shape[2]):  # Inner dimension for dot product\n",
    "                    result[i, j, k] += a[i, j, l] * b[k, l]\n",
    "    return result\n"
   ]
  },
  {
   "cell_type": "code",
   "execution_count": 18,
   "metadata": {},
   "outputs": [],
   "source": [
    "@numba.jit(fastmath=True, nopython=True, parallel=True)\n",
    "def mean_axis_2(array):\n",
    "    \"\"\"\n",
    "    Mean along the 2nd axis of a 3d array\n",
    "    \n",
    "    \"\"\"\n",
    "\n",
    "    result = np.zeros((array.shape[0],array.shape[1]), dtype = np.float64)\n",
    "    array = array.real\n",
    "\n",
    "    for x in numba.prange(array.shape[0]):\n",
    "        for y in numba.prange(array.shape[1]):\n",
    "            for z in numba.prange(array.shape[2]):\n",
    "                result[x,y] += array[x,y,z]\n",
    "            result[x,y] = result[x,y] / array.shape[2]\n",
    "\n",
    "    return result"
   ]
  },
  {
   "cell_type": "code",
   "execution_count": 19,
   "metadata": {},
   "outputs": [],
   "source": [
    "@numba.jit(fastmath=True, nopython=True, parallel=True)\n",
    "def calc_incoh_f(disp_3d:np.ndarray,\n",
    "         q_points: np.ndarray, \n",
    "         s_len_sq: np.ndarray) -> np.ndarray:\n",
    "    \"\"\"\n",
    "    Calculate the incoherent intermediete scattering function F(q,t) as per eqn17 in https://doi.org/10.1016/0010-4655(95)00048-K\n",
    "\n",
    "    :param q_points: Chosen q_points in 3 dimensional cartesian coordinates, shape [q_points x 3]\n",
    "\n",
    "    :returns: Point along F(q_t) line for the chosen 3d displacement and q_point\n",
    "\n",
    "    expects an input of X atoms by N observations by 3 dimensions\n",
    "\n",
    "\n",
    "    \"\"\"\n",
    "    result = mat_mul(disp_3d,q_points)\n",
    "\n",
    "    #numba raise to exponent implementation\n",
    "    expensive_exponent = np.zeros(result.shape, dtype=np.complex64)\n",
    "    for x in numba.prange(result.shape[0]):\n",
    "        for y in numba.prange(result.shape[1]):\n",
    "            expensive_exponent[x, y] = np.exp(1j * result[x, y])\n",
    "\n",
    "\n",
    "    # Numba axis mean implementation\n",
    "    mean_1 = mean_axis_2(expensive_exponent)\n",
    "\n",
    "    # Numba sum over implementation and divide by N\n",
    "    incoh_val = np.zeros(1,dtype = np.float64)\n",
    "    for x in numba.prange(mean_1.shape[0]):\n",
    "        for y in numba.prange(mean_1.shape[1]):\n",
    "            incoh_val += mean_1[x,y] * s_len_sq[x]\n",
    "\n",
    "    incoh_f = incoh_val / (mean_1.shape[0]*mean_1.shape[1])\n",
    "\n",
    "    return incoh_f"
   ]
  },
  {
   "cell_type": "code",
   "execution_count": 20,
   "metadata": {},
   "outputs": [],
   "source": [
    "def incoh_line(disp,q_points,dt,total_scat_lengths,min_required_points= 10000, unit = 'A'):\n",
    "    \"\"\"\n",
    "    Calc the incoherent intermediate scattering function F(q,t) for a given 3d displacement and q_shell, based on min required points.\n",
    "    Input of non square scattering lengths is expected\n",
    "\n",
    "    \"\"\"\n",
    "\n",
    "    s_len_sq = np.zeros(total_scat_lengths.shape, dtype=np.float64)\n",
    "    for x in range(0, s_len_sq.shape[0]):\n",
    "        s_len_sq[x] = total_scat_lengths[x]**2\n",
    "\n",
    "    incoh_line = np.zeros((dt.shape[0] - min_required_points), dtype=np.float64)\n",
    "\n",
    "    for i in range(0, (dt.shape[0]-min_required_points)):\n",
    "        if i % 3000 == 0:\n",
    "            print(i)\n",
    "        disp_3d = create_disp_3d(disp,i,unit)\n",
    "        incoh_line[i] = calc_incoh_f(disp_3d,q_points,s_len_sq)\n",
    "\n",
    "    return incoh_line\n",
    "\n"
   ]
  },
  {
   "cell_type": "markdown",
   "metadata": {},
   "source": [
    "# Kinisi test"
   ]
  },
  {
   "cell_type": "code",
   "execution_count": 21,
   "metadata": {},
   "outputs": [],
   "source": [
    "x = Xdatcar(\"XDATCAR_reduced_50_wrapped.vasp\")\n",
    "\n",
    "import warnings\n",
    "warnings.filterwarnings(\"ignore\")\n",
    "\n",
    "time_step = 1.0 * sc.Unit('fs')\n",
    "step_skip = 50 * sc.Unit('dimensionless')"
   ]
  },
  {
   "cell_type": "code",
   "execution_count": 10,
   "metadata": {},
   "outputs": [
    {
     "name": "stderr",
     "output_type": "stream",
     "text": [
      "Reading Trajectory:   0%|          | 0/20000 [00:00<?, ?it/s]"
     ]
    },
    {
     "name": "stderr",
     "output_type": "stream",
     "text": [
      "Reading Trajectory: 100%|██████████| 20000/20000 [00:00<00:00, 32777.22it/s]\n",
      "Reading Trajectory: 100%|██████████| 20000/20000 [00:00<00:00, 38129.88it/s]\n"
     ]
    },
    {
     "name": "stdout",
     "output_type": "stream",
     "text": [
      "INFO: Pruning at 0.26 < 18\n",
      "INFO: Pruned from 13934 q-points to 13\n"
     ]
    }
   ],
   "source": [
    "z = sp.PymatgenParser(x.structures, specie = ['Li','N', 'H'], isotopes = ['7Li','14N', '1H'], time_step = time_step, step_skip = step_skip)\n",
    "\n",
    "q_points = z.calculate_q_points(q_max = 18, max_points = 8)"
   ]
  },
  {
   "cell_type": "code",
   "execution_count": 11,
   "metadata": {},
   "outputs": [
    {
     "name": "stderr",
     "output_type": "stream",
     "text": [
      "Reading Trajectory: 100%|██████████| 20000/20000 [00:00<00:00, 31909.36it/s]\n",
      "Reading Trajectory: 100%|██████████| 20000/20000 [00:00<00:00, 44421.54it/s]\n"
     ]
    }
   ],
   "source": [
    "kin_H = parser.PymatgenParser(x.structures, time_step = time_step, step_skip = step_skip, specie = ['Li','N', 'H'])\n",
    "\n",
    "structure, coords, latt = kin_H.get_structure_coords_latt(x.structures)\n",
    "kin_H.displacements = kin_H.calculate_displacements(coords = coords, lattice= latt)"
   ]
  },
  {
   "cell_type": "code",
   "execution_count": 12,
   "metadata": {},
   "outputs": [],
   "source": [
    "import numpy as np\n",
    "np.random.seed(42)\n",
    "def random_points_on_sphere(radius=1.0, nPoints=100):\n",
    "    points = np.zeros((3, nPoints), dtype=np.float64)\n",
    "\n",
    "    theta = 2.0 * np.pi * np.random.uniform(nPoints)\n",
    "    u = np.random.uniform(-1.0, 1.0, nPoints)\n",
    "    points[0, :] = radius * np.sqrt(1 - u**2) * np.cos(theta)\n",
    "    points[1, :] = radius * np.sqrt(1 - u**2) * np.sin(theta)\n",
    "    points[2, :] = radius * u\n",
    "\n",
    "    return points\n",
    "\n",
    "\n",
    "width = 1\n",
    "nVectors = 10\n",
    "shells = np.arange(1.8,18,2)\n",
    "\n",
    "\n",
    "q_vec = np.zeros((len(shells),3,nVectors))\n",
    "\n",
    "for i,q in enumerate(shells):\n",
    "    fact = q * np.sign(\n",
    "                np.random.uniform(-0.5, 0.5, nVectors)\n",
    "            ) + width * np.random.uniform(-0.5, 0.5, nVectors)\n",
    "    v = random_points_on_sphere(nPoints=nVectors)\n",
    "\n",
    "    q_vec[i] = fact * v\n",
    "\n",
    "#q_vec = q_vec.reshape(3,10).T\n"
   ]
  },
  {
   "cell_type": "code",
   "execution_count": 22,
   "metadata": {},
   "outputs": [
    {
     "name": "stdout",
     "output_type": "stream",
     "text": [
      "0\n",
      "0\n",
      "3000\n",
      "6000\n",
      "9000\n",
      "1\n",
      "0\n",
      "3000\n",
      "6000\n",
      "9000\n",
      "2\n",
      "0\n",
      "3000\n",
      "6000\n",
      "9000\n",
      "3\n",
      "0\n",
      "3000\n",
      "6000\n",
      "9000\n",
      "4\n",
      "0\n",
      "3000\n",
      "6000\n",
      "9000\n",
      "5\n",
      "0\n",
      "3000\n",
      "6000\n",
      "9000\n",
      "6\n",
      "0\n",
      "3000\n",
      "6000\n",
      "9000\n",
      "7\n",
      "0\n",
      "3000\n",
      "6000\n",
      "9000\n",
      "8\n",
      "0\n",
      "3000\n",
      "6000\n",
      "9000\n"
     ]
    }
   ],
   "source": [
    "incoh_full = incoh_full = np.zeros((9,10000))\n",
    "\n",
    "for iter in range(q_vec.shape[0]):\n",
    "    print(iter)\n",
    "    q_vec_choice = q_vec[iter].T\n",
    "    incoh_test = incoh_line(q_points=q_vec_choice,disp =kin_H.displacements.values, dt = z.delta_t.values,total_scat_lengths=z.scattering_lengths, min_required_points=10000,unit ='nm')\n",
    "    incoh_full[iter] = incoh_test"
   ]
  },
  {
   "cell_type": "code",
   "execution_count": null,
   "metadata": {},
   "outputs": [],
   "source": [
    "tester = create_disp_3d(disp=kin_H.displacements.values,i=10)"
   ]
  },
  {
   "cell_type": "code",
   "execution_count": 90,
   "metadata": {},
   "outputs": [
    {
     "data": {
      "text/plain": [
       "array([[3, 0, 0],\n",
       "       [2, 2, 1],\n",
       "       [3, 3, 2],\n",
       "       [3, 3, 0],\n",
       "       [2, 4, 2]])"
      ]
     },
     "execution_count": 90,
     "metadata": {},
     "output_type": "execute_result"
    }
   ],
   "source": [
    "q_points"
   ]
  },
  {
   "cell_type": "code",
   "execution_count": 97,
   "metadata": {},
   "outputs": [
    {
     "name": "stdout",
     "output_type": "stream",
     "text": [
      "[[[24 32 51 39 48]\n",
      "  [24 33 54 36 50]\n",
      "  [18 32 52 36 52]]\n",
      "\n",
      " [[ 9 22 37 21 38]\n",
      "  [12 25 42 24 42]\n",
      "  [18 31 51 33 50]]\n",
      "\n",
      " [[27 33 53 39 48]\n",
      "  [18 27 45 27 42]\n",
      "  [15 31 50 36 52]]\n",
      "\n",
      " [[ 9 29 46 36 52]\n",
      "  [18 21 34 24 30]\n",
      "  [ 9 26 42 30 46]]]\n",
      "(4, 3)\n",
      "(4, 3)\n"
     ]
    },
    {
     "data": {
      "text/plain": [
       "0.05045544121918207"
      ]
     },
     "execution_count": 97,
     "metadata": {},
     "output_type": "execute_result"
    }
   ],
   "source": [
    "import numpy as np\n",
    "np.random.seed(42)\n",
    "\n",
    "atoms = 4\n",
    "\n",
    "# 4, 3 ovservations of 3 dimensions\n",
    "disp_frames =  np.random.randint(low = 2, high =10, size = (atoms,3,3))\n",
    "#disp_frames = tester\n",
    "\n",
    "# 5 3d q vectors\n",
    "q_points = np.random.randint(low = 0, high =5, size = (5,3))\n",
    "#q_points = q_vec\n",
    "\n",
    "\n",
    "d_q = (disp_frames @ q_points.T)\n",
    "# print(d_q)\n",
    "print(d_q)\n",
    "\n",
    "exp_d_q = np.exp(1j* d_q)\n",
    "mean_exp = exp_d_q.mean(axis = 2)\n",
    "print(mean_exp.shape)\n",
    "b_2 = np.ones(atoms) \n",
    "incoh_sum = (b_2[:,np.newaxis]* mean_exp ).real\n",
    "print(incoh_sum.shape)\n",
    "incoh_final = np.mean(incoh_sum)\n",
    "\n",
    "incoh_final"
   ]
  },
  {
   "cell_type": "code",
   "execution_count": null,
   "metadata": {},
   "outputs": [
    {
     "data": {
      "text/plain": [
       "array([152.04116045])"
      ]
     },
     "execution_count": 69,
     "metadata": {},
     "output_type": "execute_result"
    }
   ],
   "source": [
    "calc_incoh_f(tester,q_vec,z.scattering_lengths ** 2)"
   ]
  },
  {
   "cell_type": "code",
   "execution_count": 32,
   "metadata": {},
   "outputs": [
    {
     "data": {
      "text/plain": [
       "(9, 10000)"
      ]
     },
     "execution_count": 32,
     "metadata": {},
     "output_type": "execute_result"
    }
   ],
   "source": [
    "incoh_full.shape"
   ]
  },
  {
   "cell_type": "code",
   "execution_count": 75,
   "metadata": {},
   "outputs": [
    {
     "data": {
      "text/plain": [
       "(9, 10000)"
      ]
     },
     "execution_count": 75,
     "metadata": {},
     "output_type": "execute_result"
    }
   ],
   "source": [
    "incoh_full.shape"
   ]
  },
  {
   "cell_type": "code",
   "execution_count": 23,
   "metadata": {},
   "outputs": [],
   "source": [
    "incoh_test2 = incoh_full / incoh_full[:,0].reshape(9,1)"
   ]
  },
  {
   "cell_type": "code",
   "execution_count": 24,
   "metadata": {},
   "outputs": [
    {
     "data": {
      "image/png": "[encoded data removed]",
      "text/plain": [
       "<Figure size 640x480 with 1 Axes>"
      ]
     },
     "metadata": {},
     "output_type": "display_data"
    }
   ],
   "source": [
    "import matplotlib.pyplot as plt\n",
    "#incoh_plot = incoh_test / incoh_test[0]\n",
    "\n",
    "# Normalise based on sum of scattering lengths \n",
    "# In\n",
    "\n",
    "for x in range(incoh_full.shape[0]):\n",
    "    plt.plot(np.linspace(0,10000,10000),incoh_full[x])"
   ]
  },
  {
   "cell_type": "code",
   "execution_count": 29,
   "metadata": {},
   "outputs": [
    {
     "data": {
      "text/plain": [
       "(0.3, 1.0)"
      ]
     },
     "execution_count": 29,
     "metadata": {},
     "output_type": "execute_result"
    },
    {
     "data": {
      "image/png": "[encoded data removed]",
      "text/plain": [
       "<Figure size 640x480 with 1 Axes>"
      ]
     },
     "metadata": {},
     "output_type": "display_data"
    }
   ],
   "source": [
    "import matplotlib.pyplot as plt\n",
    "#incoh_plot = incoh_test / incoh_test[0]\n",
    "\n",
    "# Look at conversion from A to nm - convert A to nm \n",
    "\n",
    "for x in range(incoh_full.shape[0]):\n",
    "    plt.plot(np.linspace(0,25000,10000),incoh_test2[x])\n",
    "\n",
    "plt.ylim(0.3,1)"
   ]
  },
  {
   "cell_type": "code",
   "execution_count": null,
   "metadata": {},
   "outputs": [],
   "source": [
    "x = np.fft.fft(incoh_full[0])"
   ]
  },
  {
   "cell_type": "code",
   "execution_count": null,
   "metadata": {},
   "outputs": [],
   "source": []
  }
 ],
 "metadata": {
  "kernelspec": {
   "display_name": "base",
   "language": "python",
   "name": "python3"
  },
  "language_info": {
   "codemirror_mode": {
    "name": "ipython",
    "version": 3
   },
   "file_extension": ".py",
   "mimetype": "text/x-python",
   "name": "python",
   "nbconvert_exporter": "python",
   "pygments_lexer": "ipython3",
   "version": "3.12.2"
  }
 },
 "nbformat": 4,
 "nbformat_minor": 2
}
