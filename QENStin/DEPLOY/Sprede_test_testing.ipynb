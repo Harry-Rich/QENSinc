{
 "cells": [
  {
   "cell_type": "code",
   "execution_count": 1,
   "metadata": {},
   "outputs": [],
   "source": [
    "import numpy as np\n",
    "import Sprede as sp\n",
    "import MDAnalysis as mda"
   ]
  },
  {
   "cell_type": "code",
   "execution_count": 2,
   "metadata": {},
   "outputs": [
    {
     "name": "stderr",
     "output_type": "stream",
     "text": [
      "/opt/anaconda3/lib/python3.12/site-packages/MDAnalysis/coordinates/DCD.py:165: DeprecationWarning: DCDReader currently makes independent timesteps by copying self.ts while other readers update self.ts inplace. This behavior will be changed in 3.0 to be the same as other readers. Read more at https://github.com/MDAnalysis/mdanalysis/issues/3889 to learn if this change in behavior might affect you.\n",
      "  warnings.warn(\"DCDReader currently makes independent timesteps\"\n"
     ]
    }
   ],
   "source": [
    "time_step = 1.0\n",
    "step_skip = 1\n",
    "dt_correct = np.arange(1,200,2)\n",
    "dt_correct[-1] = 200\n",
    "\n",
    "\n",
    "test_u = mda.Universe('input_data/example_LAMMPS.data','input_data/example_LAMMPS.dcd')\n",
    "test_u_sp = sp.MDAnalysisParser(test_u,specie=['1','2'],isotopes = ['41K','35Cl'],time_step=time_step,step_skip=step_skip)\n",
    "q_points = test_u_sp.calculate_q_points(q_max = 5)\n",
    "test_incoh = test_u_sp.calculate_Finc_qt(q_points)"
   ]
  },
  {
   "cell_type": "code",
   "execution_count": 56,
   "metadata": {},
   "outputs": [],
   "source": [
    "# testing incoh shape \n",
    "assert test_incoh.shape == (len(q_points),len(test_u_sp.delta_t))\n",
    "\n",
    "\n",
    "# testing correct 0th q_point\n",
    "assert (test_incoh[0,:].round(3) == 9.351).all()"
   ]
  },
  {
   "cell_type": "code",
   "execution_count": 6,
   "metadata": {},
   "outputs": [],
   "source": [
    "# Testing correct dt\n",
    "assert dt_correct.all() == test_u_sp.delta_t.all()"
   ]
  },
  {
   "cell_type": "code",
   "execution_count": 18,
   "metadata": {},
   "outputs": [
    {
     "data": {
      "text/plain": [
       "True"
      ]
     },
     "execution_count": 18,
     "metadata": {},
     "output_type": "execute_result"
    }
   ],
   "source": [
    "# Testing scattering length assignement\n",
    "np.sum(test_u_sp.scattering_lengths) == (52*6.1 + (256-52)*1.5)"
   ]
  },
  {
   "cell_type": "code",
   "execution_count": 58,
   "metadata": {},
   "outputs": [],
   "source": [
    "import pytest\n",
    "import numpy as np\n",
    "import Sprede as sp\n",
    "import MDAnalysis as mda\n",
    "\n",
    "\n",
    "\n",
    "@pytest.fixture()\n",
    "def produce_incoh():\n",
    "    time_step = 1.0\n",
    "    step_skip = 1\n",
    "    test_u = mda.Universe('input_data/example_LAMMPS.data','input_data/example_LAMMPS.dcd')\n",
    "    test_u_sp = sp.MDAnalysisParser(test_u,specie=['1','2'],isotopes = ['41K','35Cl'],time_step=time_step,step_skip=step_skip)\n",
    "    q_points = test_u_sp.calculate_q_points(q_max = 5)\n",
    "    test_incoh = test_u_sp.calculate_Finc_qt(q_points)\n",
    "    return test_u_sp,test_incoh\n",
    "\n",
    "def test_dt_assignement(test_u_sp):\n",
    "    dt_correct = np.arange(1,200,2)\n",
    "    dt_correct[-1] = 200\n",
    "    assert dt_correct.all() == test_u_sp.delta_t.all()\n",
    "\n",
    "\n",
    "def test_scattering_length(test_u_sp):\n",
    "    assert np.sum(test_u_sp.scattering_lengths) == (52*6.1 + (256-52)*1.5)\n",
    "\n",
    "def test_incoh_shape(test_u_sp,test_incoh):\n",
    "    assert test_incoh.shape == (len(q_points),len(test_u_sp.delta_t))\n",
    "\n",
    "def test_incoh_0th_q_point(test_incoh):\n",
    "    assert (test_incoh[0,:].round(3) == 9.351).all()\n",
    "\n"
   ]
  },
  {
   "cell_type": "code",
   "execution_count": null,
   "metadata": {},
   "outputs": [],
   "source": []
  },
  {
   "cell_type": "code",
   "execution_count": null,
   "metadata": {},
   "outputs": [],
   "source": []
  }
 ],
 "metadata": {
  "kernelspec": {
   "display_name": "base",
   "language": "python",
   "name": "python3"
  },
  "language_info": {
   "codemirror_mode": {
    "name": "ipython",
    "version": 3
   },
   "file_extension": ".py",
   "mimetype": "text/x-python",
   "name": "python",
   "nbconvert_exporter": "python",
   "pygments_lexer": "ipython3",
   "version": "3.12.2"
  }
 },
 "nbformat": 4,
 "nbformat_minor": 2
}
