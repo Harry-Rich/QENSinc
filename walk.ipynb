{
 "cells": [
  {
   "cell_type": "code",
   "execution_count": null,
   "metadata": {},
   "outputs": [],
   "source": [
    "from typing import Union, List\n",
    "import numpy as np"
   ]
  },
  {
   "cell_type": "code",
   "execution_count": null,
   "metadata": {},
   "outputs": [],
   "source": [
    "def walk(atoms: int,\n",
    "         timesteps: np.ndarray,\n",
    "         jump_size: int = 1,\n",
    "         seed: np.random.mtrand.RandomState = np.random.RandomState()) -> np.ndarray:\n",
    "    \"\"\"\n",
    "    Perform a random walk.\n",
    "\n",
    "    :param atoms: number of atoms\n",
    "    :param timesteps: the timestep values\n",
    "    :param jump_size: size of jump\n",
    "    :param seed: random seed source\n",
    "    :return: cumulative sum of steps for walk\n",
    "    \"\"\"\n",
    "    possible_moves = np.zeros((6, 3))\n",
    "    j = 0\n",
    "    for i in range(0, 6, 2):\n",
    "        possible_moves[i, j] = jump_size\n",
    "        possible_moves[i + 1, j] = -jump_size\n",
    "        j += 1\n",
    "    choices = seed.choice(len(range(len(possible_moves))), size=(atoms, len(timesteps)))\n",
    "    steps = np.zeros((atoms, len(timesteps), 3))\n",
    "    for i in range(steps.shape[0]):\n",
    "        for j in range(steps.shape[1]):\n",
    "            steps[i, j] = possible_moves[choices[i, j]]\n",
    "    return steps"
   ]
  },
  {
   "cell_type": "code",
   "execution_count": null,
   "metadata": {},
   "outputs": [],
   "source": [
    "n_atoms = 128\n",
    "dt = np.arange(1, 129, 1)"
   ]
  },
  {
   "cell_type": "code",
   "execution_count": null,
   "metadata": {},
   "outputs": [],
   "source": [
    "dt"
   ]
  },
  {
   "cell_type": "code",
   "execution_count": null,
   "metadata": {},
   "outputs": [],
   "source": [
    "cum_steps.shape"
   ]
  },
  {
   "cell_type": "code",
   "execution_count": null,
   "metadata": {},
   "outputs": [],
   "source": [
    "cum_steps = np.cumsum(steps, axis=1)"
   ]
  },
  {
   "cell_type": "code",
   "execution_count": null,
   "metadata": {},
   "outputs": [],
   "source": [
    "disp_3d = []\n",
    "n_i = np.array([])\n",
    "for i, n in enumerate(dt):\n",
    "    disp = np.concatenate([cum_steps[:, np.newaxis, i],\n",
    "                            np.subtract(cum_steps[:, i + 1:], cum_steps[:, :-(i + 1)])],\n",
    "                            axis=1)\n",
    "    disp_3d.append(disp)\n",
    "    n_i = np.append(n_i, dt[-1] / n * n_atoms)"
   ]
  },
  {
   "cell_type": "code",
   "execution_count": null,
   "metadata": {},
   "outputs": [],
   "source": [
    "disp_3d[50].shape"
   ]
  },
  {
   "cell_type": "code",
   "execution_count": null,
   "metadata": {},
   "outputs": [],
   "source": [
    "dt[50]"
   ]
  },
  {
   "cell_type": "code",
   "execution_count": null,
   "metadata": {},
   "outputs": [],
   "source": [
    "from tqdm import tqdm"
   ]
  },
  {
   "cell_type": "code",
   "execution_count": null,
   "metadata": {},
   "outputs": [],
   "source": [
    "msd = []\n",
    "for j in tqdm(range(4096)):\n",
    "    steps = walk(n_atoms, dt, seed=np.random.RandomState(j))\n",
    "    cum_steps = np.cumsum(steps, axis=1)\n",
    "    disp_3d = []\n",
    "    n_i = np.array([])\n",
    "    for i, n in enumerate(dt):\n",
    "        disp = np.concatenate([cum_steps[:, np.newaxis, i],\n",
    "                                np.subtract(cum_steps[:, i + 1:], cum_steps[:, :-(i + 1)])],\n",
    "                                axis=1)\n",
    "        disp_3d.append(disp)\n",
    "        n_i = np.append(n_i, dt[-1] / n * n_atoms)\n",
    "    msd.append(np.mean(np.sum(disp_3d[-1] ** 2, axis=-1)))"
   ]
  },
  {
   "cell_type": "code",
   "execution_count": null,
   "metadata": {},
   "outputs": [],
   "source": [
    "np.sum(disp_3d[-1] ** 2, axis=1)"
   ]
  },
  {
   "cell_type": "code",
   "execution_count": null,
   "metadata": {},
   "outputs": [],
   "source": [
    "np.sum(disp_3d[-1] ** 2, axis=-2)"
   ]
  },
  {
   "cell_type": "code",
   "execution_count": null,
   "metadata": {},
   "outputs": [],
   "source": [
    "dt[63]"
   ]
  },
  {
   "cell_type": "code",
   "execution_count": null,
   "metadata": {},
   "outputs": [],
   "source": [
    "from scipy.stats import chi2"
   ]
  },
  {
   "cell_type": "code",
   "execution_count": null,
   "metadata": {},
   "outputs": [],
   "source": [
    "f = chi2.fit(msd, floc=0)"
   ]
  },
  {
   "cell_type": "code",
   "execution_count": null,
   "metadata": {},
   "outputs": [],
   "source": [
    "import matplotlib.pyplot as plt\n",
    "\n",
    "plt.hist(msd, bins=100, density=True)\n",
    "x = np.linspace(np.min(msd), np.max(msd), 1000)\n",
    "plt.plot(x, chi2(*f).pdf(x), 'k-')"
   ]
  },
  {
   "cell_type": "code",
   "execution_count": null,
   "metadata": {},
   "outputs": [],
   "source": [
    "f"
   ]
  },
  {
   "cell_type": "code",
   "execution_count": null,
   "metadata": {},
   "outputs": [],
   "source": []
  }
 ],
 "metadata": {
  "kernelspec": {
   "display_name": "kinisi",
   "language": "python",
   "name": "python3"
  },
  "language_info": {
   "codemirror_mode": {
    "name": "ipython",
    "version": 3
   },
   "file_extension": ".py",
   "mimetype": "text/x-python",
   "name": "python",
   "nbconvert_exporter": "python",
   "pygments_lexer": "ipython3",
   "version": "3.12.5"
  }
 },
 "nbformat": 4,
 "nbformat_minor": 2
}
